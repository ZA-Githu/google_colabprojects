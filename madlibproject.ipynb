{
  "nbformat": 4,
  "nbformat_minor": 0,
  "metadata": {
    "colab": {
      "provenance": [],
      "authorship_tag": "ABX9TyOipefKxu1RDV9jRUDodeJm",
      "include_colab_link": true
    },
    "kernelspec": {
      "name": "python3",
      "display_name": "Python 3"
    },
    "language_info": {
      "name": "python"
    }
  },
  "cells": [
    {
      "cell_type": "markdown",
      "metadata": {
        "id": "view-in-github",
        "colab_type": "text"
      },
      "source": [
        "<a href=\"https://colab.research.google.com/github/ZA-Githu/google_colabprojects/blob/main/madlibproject.ipynb\" target=\"_parent\"><img src=\"https://colab.research.google.com/assets/colab-badge.svg\" alt=\"Open In Colab\"/></a>"
      ]
    },
    {
      "cell_type": "markdown",
      "source": [
        "# **MADLIB PYTHON PROJECT**"
      ],
      "metadata": {
        "id": "k2Fmks-lBPEf"
      }
    },
    {
      "cell_type": "code",
      "source": [
        "# Project 1: String Concatenation:\n",
        "\n",
        "# Here is a string that says \"Cut your..... according to your ....\"\n",
        "\n",
        "objectname = \"coat\"  # string variable\n",
        "\n",
        "objectname1 = \"cloth\"  # string variable\n",
        "\n",
        "# ways of printing this:\n",
        "\n",
        "# print(\"Cut your \"+( objectname) + \" according to your \" + (objectname1))\n",
        "\n",
        "# print(\"Cut your {} according to your {}\".format(objectname, objectname1))\n",
        "\n",
        "# print(f\"Cut your {objectname} according to your {objectname1}\")\n",
        "\n",
        "adj = input(\"Adjective: \")\n",
        "\n",
        "verb1 = input(\"Verb: \")\n",
        "\n",
        "verb2 = input(\"Verb: \")\n",
        "\n",
        "famous_person = input(\"Famous person: \")\n",
        "\n",
        "madlib = f\"Learning new languages is so {adj}!  It makes me so happy all the time because I love to {verb1}.Stay curious and {verb2} like you are {famous_person}!\"\n",
        "\n",
        "print(madlib)"
      ],
      "metadata": {
        "id": "_M986acEBX4q"
      },
      "execution_count": null,
      "outputs": []
    }
  ]
}