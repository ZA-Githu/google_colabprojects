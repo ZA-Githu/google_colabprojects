{
  "nbformat": 4,
  "nbformat_minor": 0,
  "metadata": {
    "colab": {
      "provenance": [],
      "authorship_tag": "ABX9TyOZoODe8L6CLEL3yMot7okX",
      "include_colab_link": true
    },
    "kernelspec": {
      "name": "python3",
      "display_name": "Python 3"
    },
    "language_info": {
      "name": "python"
    }
  },
  "cells": [
    {
      "cell_type": "markdown",
      "metadata": {
        "id": "view-in-github",
        "colab_type": "text"
      },
      "source": [
        "<a href=\"https://colab.research.google.com/github/ZA-Githu/google_colabprojects/blob/main/Hangman_Python.ipynb\" target=\"_parent\"><img src=\"https://colab.research.google.com/assets/colab-badge.svg\" alt=\"Open In Colab\"/></a>"
      ]
    },
    {
      "cell_type": "markdown",
      "source": [
        "# **Hangman Python Project**"
      ],
      "metadata": {
        "id": "dkbHJ5wW-HH9"
      }
    },
    {
      "cell_type": "code",
      "execution_count": null,
      "metadata": {
        "id": "ScqK8RE5-EUo"
      },
      "outputs": [],
      "source": [
        "# prompt: Hangman Python Project\n",
        "\n",
        "import random\n",
        "\n",
        "def hangman():\n",
        "    word_list = [\"python\", \"javascript\", \"programming\", \"computer\", \"science\"]\n",
        "    word = random.choice(word_list)\n",
        "    word_letters = set(word)  # letters in the word\n",
        "    alphabet = set(chr(x) for x in range(ord('a'), ord('z') + 1))\n",
        "    used_letters = set()  # what the user has guessed\n",
        "\n",
        "    lives = 6\n",
        "\n",
        "    # getting user input\n",
        "    while len(word_letters) > 0 and lives > 0:\n",
        "        # letters used\n",
        "        # ' '.join(['a', 'b', 'cd']) --> 'a b cd'\n",
        "        print('You have', lives, 'lives left and you have used these letters: ', ' '.join(used_letters))\n",
        "\n",
        "        # current word (ie. p - t - o n)\n",
        "        word_list = [letter if letter in used_letters else '-' for letter in word]\n",
        "        print('Current word: ', ' '.join(word_list))\n",
        "\n",
        "        user_letter = input('Guess a letter: ').lower()\n",
        "        if user_letter in alphabet - used_letters:\n",
        "            used_letters.add(user_letter)\n",
        "            if user_letter in word_letters:\n",
        "                word_letters.remove(user_letter)\n",
        "            else:\n",
        "                lives = lives - 1  # takes away a life if wrong\n",
        "                print('Letter is not in word.')\n",
        "\n",
        "        elif user_letter in used_letters:\n",
        "            print('You have already used that character. Please try again.')\n",
        "\n",
        "        else:\n",
        "            print('Invalid character. Please try again.')\n",
        "\n",
        "    # gets here when len(word_letters) == 0 OR lives == 0\n",
        "    if lives == 0:\n",
        "        print('You died, sorry. The word was', word)\n",
        "    else:\n",
        "        print('You guessed the word', word, '!!')\n",
        "\n",
        "\n",
        "hangman()\n"
      ]
    }
  ]
}