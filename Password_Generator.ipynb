{
  "nbformat": 4,
  "nbformat_minor": 0,
  "metadata": {
    "colab": {
      "provenance": [],
      "authorship_tag": "ABX9TyNHsugCDcNAjZtdNDqAyNFv",
      "include_colab_link": true
    },
    "kernelspec": {
      "name": "python3",
      "display_name": "Python 3"
    },
    "language_info": {
      "name": "python"
    }
  },
  "cells": [
    {
      "cell_type": "markdown",
      "metadata": {
        "id": "view-in-github",
        "colab_type": "text"
      },
      "source": [
        "<a href=\"https://colab.research.google.com/github/ZA-Githu/google_colabprojects/blob/main/Password_Generator.ipynb\" target=\"_parent\"><img src=\"https://colab.research.google.com/assets/colab-badge.svg\" alt=\"Open In Colab\"/></a>"
      ]
    },
    {
      "cell_type": "markdown",
      "source": [
        "# ** Password Generator Python Project**"
      ],
      "metadata": {
        "id": "BgTPwQFK_aAu"
      }
    },
    {
      "cell_type": "code",
      "execution_count": null,
      "metadata": {
        "id": "U5D0__y7_Vds"
      },
      "outputs": [],
      "source": [
        "# prompt:  Password Generator Python Project\n",
        "\n",
        "import random\n",
        "import string\n",
        "\n",
        "def generate_password(length=12, include_uppercase=True, include_lowercase=True, include_digits=True, include_symbols=True):\n",
        "    characters = \"\"\n",
        "    if include_uppercase:\n",
        "        characters += string.ascii_uppercase\n",
        "    if include_lowercase:\n",
        "        characters += string.ascii_lowercase\n",
        "    if include_digits:\n",
        "        characters += string.digits\n",
        "    if include_symbols:\n",
        "        characters += string.punctuation\n",
        "\n",
        "    if not characters:\n",
        "        return \"Error: At least one character type must be selected.\"\n",
        "\n",
        "    password = ''.join(random.choice(characters) for i in range(length))\n",
        "    return password\n",
        "\n",
        "\n",
        "# Get user input for password criteria\n",
        "password_length = int(input(\"Enter desired password length: \"))\n",
        "include_upper = input(\"Include uppercase letters? (y/n): \").lower() == 'y'\n",
        "include_lower = input(\"Include lowercase letters? (y/n): \").lower() == 'y'\n",
        "include_digits = input(\"Include digits? (y/n): \").lower() == 'y'\n",
        "include_symbols = input(\"Include symbols? (y/n): \").lower() == 'y'\n",
        "\n",
        "\n",
        "# Generate and print the password\n",
        "password = generate_password(password_length, include_upper, include_lower, include_digits, include_symbols)\n",
        "print(\"Generated password:\", password)\n"
      ]
    }
  ]
}