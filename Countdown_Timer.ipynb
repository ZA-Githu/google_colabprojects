{
  "nbformat": 4,
  "nbformat_minor": 0,
  "metadata": {
    "colab": {
      "provenance": [],
      "authorship_tag": "ABX9TyNkaPLzTYTEI73P/WG+nGwi",
      "include_colab_link": true
    },
    "kernelspec": {
      "name": "python3",
      "display_name": "Python 3"
    },
    "language_info": {
      "name": "python"
    }
  },
  "cells": [
    {
      "cell_type": "markdown",
      "metadata": {
        "id": "view-in-github",
        "colab_type": "text"
      },
      "source": [
        "<a href=\"https://colab.research.google.com/github/ZA-Githu/google_colabprojects/blob/main/Countdown_Timer.ipynb\" target=\"_parent\"><img src=\"https://colab.research.google.com/assets/colab-badge.svg\" alt=\"Open In Colab\"/></a>"
      ]
    },
    {
      "cell_type": "markdown",
      "source": [
        "# **Countdown Timer Python Project**"
      ],
      "metadata": {
        "id": "q-hAciMV-xH5"
      }
    },
    {
      "cell_type": "code",
      "execution_count": null,
      "metadata": {
        "id": "Tu7uO-DZ-rb9"
      },
      "outputs": [],
      "source": [
        "# prompt: Countdown Timer Python Project,\n",
        "\n",
        "import time\n",
        "\n",
        "def countdown(t):\n",
        "    \"\"\"\n",
        "    A simple countdown timer.\n",
        "\n",
        "    Args:\n",
        "      t: The time in seconds to count down from.\n",
        "    \"\"\"\n",
        "\n",
        "    while t:\n",
        "        mins, secs = divmod(t, 60)\n",
        "        timer = '{:02d}:{:02d}'.format(mins, secs)\n",
        "        print(timer, end=\"\\r\")\n",
        "        time.sleep(1)\n",
        "        t -= 1\n",
        "\n",
        "    print('Fire in the hole!!')\n",
        "\n",
        "# Get user input for countdown time\n",
        "seconds = input(\"Enter the time in seconds: \")\n",
        "\n",
        "# Convert input to integer, handle potential errors\n",
        "try:\n",
        "  seconds = int(seconds)\n",
        "  if seconds <= 0:\n",
        "    print(\"Please enter a positive number of seconds.\")\n",
        "  else:\n",
        "    countdown(seconds)\n",
        "except ValueError:\n",
        "  print(\"Invalid input. Please enter a valid integer.\")\n"
      ]
    }
  ]
}