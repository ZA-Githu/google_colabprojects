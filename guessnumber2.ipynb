{
  "nbformat": 4,
  "nbformat_minor": 0,
  "metadata": {
    "colab": {
      "provenance": [],
      "authorship_tag": "ABX9TyOJyBwHd+eDfCfKgq7kVufr",
      "include_colab_link": true
    },
    "kernelspec": {
      "name": "python3",
      "display_name": "Python 3"
    },
    "language_info": {
      "name": "python"
    }
  },
  "cells": [
    {
      "cell_type": "markdown",
      "metadata": {
        "id": "view-in-github",
        "colab_type": "text"
      },
      "source": [
        "<a href=\"https://colab.research.google.com/github/ZA-Githu/google_colabprojects/blob/main/guessnumber2.ipynb\" target=\"_parent\"><img src=\"https://colab.research.google.com/assets/colab-badge.svg\" alt=\"Open In Colab\"/></a>"
      ]
    },
    {
      "cell_type": "markdown",
      "source": [
        "# ***GUESS THE NUMBER GAME (COMPUTER)***"
      ],
      "metadata": {
        "id": "fRJsTdXtYB7p"
      }
    },
    {
      "cell_type": "code",
      "source": [
        "import random\n",
        "\n",
        "def guess_the_number():\n",
        "    \"\"\" Project 2 : Guess The Number Game By Computer.\"\"\"\n",
        "    number = random.randint(1, 100)\n",
        "    guesses_left = 7\n",
        "\n",
        "    # Welcome message:\n",
        "    print(\"Welcome to the number guessing game\")\n",
        "    print(\"I am thinking of a number between 1 and 100\")\n",
        "\n",
        "    # Loop generated:\n",
        "    while guesses_left > 0:\n",
        "        print(f\"\\nYou have {guesses_left} guesses left.\")\n",
        "        try:\n",
        "            guess = int(input(\"Take a guess: \"))\n",
        "        except ValueError:\n",
        "            print(\"Invalid input: Please enter a number.\")\n",
        "            continue\n",
        "\n",
        "        # Guess the secret number:\n",
        "        if guess < number:\n",
        "            print(\"Too low! Try again.\")\n",
        "        elif guess > number:\n",
        "            print(\"Too high! Try again.\")\n",
        "        else:\n",
        "            print(f\"Congratulations! You guessed the correct number in {7 - guesses_left + 1} tries.\")\n",
        "            return\n",
        "\n",
        "        guesses_left -= 1\n",
        "\n",
        "    # When all guesses finished:\n",
        "    print(f\"\\nYou ran out of guesses. The number was {number}.\")\n",
        "\n",
        "# Call the function to start the game\n",
        "guess_the_number()\n"
      ],
      "metadata": {
        "colab": {
          "base_uri": "https://localhost:8080/"
        },
        "id": "OKFIuSDdYQap",
        "outputId": "cd2ed89c-f3f8-42d3-905a-d7508a3e8d10"
      },
      "execution_count": null,
      "outputs": [
        {
          "output_type": "stream",
          "name": "stdout",
          "text": [
            "Welcome to the number guessing game\n",
            "I am thinking of a number between 1 and 100\n",
            "\n",
            "You have 7 guesses left.\n",
            "Take a guess: 32\n",
            "Too low! Try again.\n",
            "\n",
            "You have 6 guesses left.\n",
            "Take a guess: 98\n",
            "Too high! Try again.\n",
            "\n",
            "You have 5 guesses left.\n",
            "Take a guess: 56\n",
            "Too low! Try again.\n",
            "\n",
            "You have 4 guesses left.\n",
            "Take a guess: 87\n",
            "Too high! Try again.\n",
            "\n",
            "You have 3 guesses left.\n",
            "Take a guess: 12\n",
            "Too low! Try again.\n",
            "\n",
            "You have 2 guesses left.\n",
            "Take a guess: 46\n",
            "Too low! Try again.\n",
            "\n",
            "You have 1 guesses left.\n",
            "Take a guess: 95\n",
            "Too high! Try again.\n",
            "\n",
            "You ran out of guesses. The number was 62.\n"
          ]
        }
      ]
    }
  ]
}