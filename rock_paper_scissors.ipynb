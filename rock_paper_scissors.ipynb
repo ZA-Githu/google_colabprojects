{
  "nbformat": 4,
  "nbformat_minor": 0,
  "metadata": {
    "colab": {
      "provenance": [],
      "authorship_tag": "ABX9TyMWTBklvCWPchPFkQD/URWK"
    },
    "kernelspec": {
      "name": "python3",
      "display_name": "Python 3"
    },
    "language_info": {
      "name": "python"
    }
  },
  "cells": [
    {
      "cell_type": "markdown",
      "source": [
        "# ***ROCK,PAPER AND SCISSORS PYTHON PROJECT***"
      ],
      "metadata": {
        "id": "T797ZNYYYJ1p"
      }
    },
    {
      "cell_type": "code",
      "source": [
        "import random\n",
        "\n",
        "def is_win(player, opponent):\n",
        "\n",
        "    \"\"\"Returns True if the player beats the opponent\"\"\"\n",
        "\n",
        "    return (player == 'r' and opponent == 's') or \\\n",
        " (player == 's' and opponent == 'p') or \\\n",
        "          (player == 'p' and opponent == 'r')  # Fixed 'paper' to 'p'\n",
        "\n",
        "def play():\n",
        "\n",
        "    user = input(\"What's your choice? 'r' for rock, 'p' for paper, 's' for scissors\\n\")\n",
        "\n",
        "\n",
        "    computer = random.choice(['r', 'p', 's'])\n",
        "\n",
        "    print(f\"Computer chose: {computer}\")\n",
        "\n",
        "    if user == computer:\n",
        "        return \"It's a tie\"\n",
        "\n",
        "    if is_win(user, computer):\n",
        "        return \"You won!\"\n",
        "\n",
        "    return \"You lost!\"\n",
        "\n",
        "# Run the game\n",
        "print(play())"
      ],
      "metadata": {
        "colab": {
          "base_uri": "https://localhost:8080/"
        },
        "id": "6v-RYHLvYgqM",
        "outputId": "29351d20-ce88-4a7a-b1e7-2fd64b1f4ff0"
      },
      "execution_count": null,
      "outputs": [
        {
          "output_type": "stream",
          "name": "stdout",
          "text": [
            "What's your choice? 'r' for rock, 'p' for paper, 's' for scissors\n",
            "r\n",
            "Computer chose: p\n",
            "You lost!\n"
          ]
        }
      ]
    }
  ]
}