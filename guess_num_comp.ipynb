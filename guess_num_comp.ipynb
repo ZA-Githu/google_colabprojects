{
  "nbformat": 4,
  "nbformat_minor": 0,
  "metadata": {
    "colab": {
      "provenance": [],
      "authorship_tag": "ABX9TyNjw1E0TRNLcOtE/6l4OncB",
      "include_colab_link": true
    },
    "kernelspec": {
      "name": "python3",
      "display_name": "Python 3"
    },
    "language_info": {
      "name": "python"
    }
  },
  "cells": [
    {
      "cell_type": "markdown",
      "metadata": {
        "id": "view-in-github",
        "colab_type": "text"
      },
      "source": [
        "<a href=\"https://colab.research.google.com/github/ZA-Githu/google_colabprojects/blob/main/guess_num_comp.ipynb\" target=\"_parent\"><img src=\"https://colab.research.google.com/assets/colab-badge.svg\" alt=\"Open In Colab\"/></a>"
      ]
    },
    {
      "cell_type": "markdown",
      "source": [
        "# **Guess the Number Game Python Project (computer)**"
      ],
      "metadata": {
        "id": "PQijch6i9E9N"
      }
    },
    {
      "cell_type": "code",
      "execution_count": null,
      "metadata": {
        "id": "zStslc0Q8wOX"
      },
      "outputs": [],
      "source": [
        "# prompt: Guess the Number Game Python Project (computer)\n",
        "\n",
        "import random\n",
        "\n",
        "def guess_the_number():\n",
        "    \"\"\"Plays a number guessing game where the computer guesses the player's number.\"\"\"\n",
        "\n",
        "    print(\"Think of a number between 1 and 100.\")\n",
        "    print(\"I will try to guess it.\")\n",
        "\n",
        "    low = 1\n",
        "    high = 100\n",
        "    guesses_left = 7  # Adjust the number of guesses as needed\n",
        "\n",
        "    while guesses_left > 0:\n",
        "        guess = (low + high) // 2  # Binary search approach\n",
        "\n",
        "        print(f\"Is your number {guess}?\")\n",
        "        response = input(\"Enter 'h' if your number is higher, 'l' if it's lower, or 'c' if I guessed correctly: \").lower()\n",
        "\n",
        "        if response == 'h':\n",
        "            low = guess + 1\n",
        "        elif response == 'l':\n",
        "            high = guess - 1\n",
        "        elif response == 'c':\n",
        "            print(f\"I guessed your number in {7 - guesses_left + 1} tries! It was {guess}.\")\n",
        "            return\n",
        "        else:\n",
        "            print(\"Invalid input. Please enter 'h', 'l', or 'c'.\")\n",
        "            continue  # Go back to the beginning of the loop\n",
        "\n",
        "        guesses_left -= 1\n",
        "        if guesses_left > 0:\n",
        "            print(f\"I have {guesses_left} guesses left.\")\n",
        "\n",
        "    print(\"I couldn't guess your number within the allowed guesses. You win!\")\n",
        "\n",
        "if __name__ == \"__main__\":\n",
        "    guess_the_number()\n"
      ]
    }
  ]
}