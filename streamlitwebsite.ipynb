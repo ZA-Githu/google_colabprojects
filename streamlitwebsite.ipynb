{
  "nbformat": 4,
  "nbformat_minor": 0,
  "metadata": {
    "colab": {
      "provenance": [],
      "authorship_tag": "ABX9TyM+0LmR5vjjy2AcxXlu5zLZ",
      "include_colab_link": true
    },
    "kernelspec": {
      "name": "python3",
      "display_name": "Python 3"
    },
    "language_info": {
      "name": "python"
    }
  },
  "cells": [
    {
      "cell_type": "markdown",
      "metadata": {
        "id": "view-in-github",
        "colab_type": "text"
      },
      "source": [
        "<a href=\"https://colab.research.google.com/github/ZA-Githu/google_colabprojects/blob/main/streamlitwebsite.ipynb\" target=\"_parent\"><img src=\"https://colab.research.google.com/assets/colab-badge.svg\" alt=\"Open In Colab\"/></a>"
      ]
    },
    {
      "cell_type": "markdown",
      "source": [],
      "metadata": {
        "id": "3RiLb6p-5Nnf"
      }
    },
    {
      "cell_type": "markdown",
      "source": [
        "# ***STREAMLIT WEBSITE PYTHON PROJECT***"
      ],
      "metadata": {
        "id": "TMfBPuOI5Nu5"
      }
    },
    {
      "cell_type": "code",
      "source": [
        "import streamlit as st\n",
        "import pandas as pd\n",
        "import matplotlib.pyplot as plt\n",
        "\n",
        "st.title(\"📊 Simple Data Dashboard\")\n",
        "\n",
        "# File uploader\n",
        "uploaded_file = st.file_uploader(\"📂 Choose a CSV file\", type=\"csv\")\n",
        "\n",
        "if uploaded_file is not None:\n",
        "    df = pd.read_csv(uploaded_file)\n",
        "\n",
        "    st.subheader(\"🔍 Data Preview\")\n",
        "    st.write(df.head())\n",
        "\n",
        "    st.subheader(\"📊 Data Summary\")\n",
        "    st.write(df.describe())\n",
        "\n",
        "    # Filter Data\n",
        "    st.subheader(\"🎯 Filter Data\")\n",
        "    columns = df.columns.tolist()\n",
        "\n",
        "    if columns:\n",
        "        selected_column = st.selectbox(\"Select column to filter by\", columns)\n",
        "\n",
        "        if selected_column:\n",
        "            unique_values = df[selected_column].dropna().unique()\n",
        "            selected_value = st.selectbox(\"Select value\", unique_values)\n",
        "\n",
        "            filtered_df = df[df[selected_column] == selected_value]\n",
        "            st.write(filtered_df)\n",
        "\n",
        "            # Plot Data\n",
        "            st.subheader(\"📈 Plot Data\")\n",
        "\n",
        "            x_column = st.selectbox(\"Select x-axis column\", columns)\n",
        "            y_column = st.selectbox(\"Select y-axis column\", columns)\n",
        "\n",
        "            if st.button(\"📌 Generate Plot\"):\n",
        "                if x_column in filtered_df.columns and y_column in filtered_df.columns:\n",
        "                    try:\n",
        "                        # Ensure the y_column is numeric\n",
        "                        filtered_df[y_column] = pd.to_numeric(filtered_df[y_column], errors=\"coerce\")\n",
        "                        filtered_df = filtered_df.dropna(subset=[y_column])\n",
        "\n",
        "                        # Plot using Streamlit's line_chart\n",
        "                        st.line_chart(filtered_df.set_index(x_column)[y_column])\n",
        "                    except Exception as e:\n",
        "                        st.error(f\"⚠️ Error generating plot: {e}\")\n",
        "                else:\n",
        "                    st.error(\"⚠️ Please select valid columns for plotting.\")\n",
        "    else:\n",
        "        st.error(\"⚠️ No columns available in the uploaded file.\")\n",
        "else:\n",
        "    st.info(\"📌 Please upload a CSV file to proceed.\")\n"
      ],
      "metadata": {
        "id": "Ff4mobML5X1C"
      },
      "execution_count": null,
      "outputs": []
    }
  ]
}