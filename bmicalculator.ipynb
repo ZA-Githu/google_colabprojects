{
  "nbformat": 4,
  "nbformat_minor": 0,
  "metadata": {
    "colab": {
      "provenance": [],
      "authorship_tag": "ABX9TyNe3CfztZF5WPQR6UUrE/HC",
      "include_colab_link": true
    },
    "kernelspec": {
      "name": "python3",
      "display_name": "Python 3"
    },
    "language_info": {
      "name": "python"
    }
  },
  "cells": [
    {
      "cell_type": "markdown",
      "metadata": {
        "id": "view-in-github",
        "colab_type": "text"
      },
      "source": [
        "<a href=\"https://colab.research.google.com/github/ZA-Githu/google_colabprojects/blob/main/bmicalculator.ipynb\" target=\"_parent\"><img src=\"https://colab.research.google.com/assets/colab-badge.svg\" alt=\"Open In Colab\"/></a>"
      ]
    },
    {
      "cell_type": "markdown",
      "source": [
        "# ***BMI CULCULATOR PYTHON PROJECT***"
      ],
      "metadata": {
        "id": "oPKqmWua3-vi"
      }
    },
    {
      "cell_type": "code",
      "source": [
        "import streamlit as st\n",
        "import pandas as pd\n",
        "import plotly.express as px\n",
        "\n",
        "def calculate_bmi(weight, height):\n",
        "\n",
        "    return weight / (height ** 2)\n",
        "\n",
        "def bmi_category(bmi):\n",
        "    if bmi < 18.5:\n",
        "        return \"Underweight\"\n",
        "    elif 18.5 <= bmi < 24.9:\n",
        "        return \"Normal weight\"\n",
        "    elif 25 <= bmi < 29.9:\n",
        "        return \"Overweight\"\n",
        "    else:\n",
        "        return \"Obese\"\n",
        "\n",
        "# Streamlit UI customization\n",
        "st.set_page_config(page_title=\"BMI Calculator\", page_icon=\"⚖\", layout=\"centered\")\n",
        "st.markdown(\"\"\"\n",
        "    <style>\n",
        "        body {\n",
        "            background: linear-gradient(135deg, #1e3c72, #2a5298);\n",
        "            color: white;\n",
        "            font-family: 'Arial', sans-serif;\n",
        "        }\n",
        "        .main-container {\n",
        "            background: rgba(255, 255, 255, 0.15);\n",
        "            padding: 25px;\n",
        "            border-radius: 15px;\n",
        "            backdrop-filter: blur(10px);\n",
        "            text-align: center;\n",
        "            max-width: 500px;\n",
        "            margin: auto;\n",
        "        }\n",
        "        h1 {\n",
        "            text-shadow: 2px 2px 5px rgba(0, 0, 0, 0.3);\n",
        "        }\n",
        "        .result {\n",
        "            font-size: 22px;\n",
        "            font-weight: bold;\n",
        "            color: #ffffff;\n",
        "            background-color: rgba(0, 0, 0, 0.4);\n",
        "            padding: 10px;\n",
        "            border-radius: 10px;\n",
        "            margin-top: 15px;\n",
        "            display: inline-block;\n",
        "        }\n",
        "        .stButton>button {\n",
        "            background-color: #00b8db;\n",
        "            color: white;\n",
        "            border-radius: 10px;\n",
        "            padding: 10px;\n",
        "            font-size: 18px;\n",
        "            font-weight: bold;\n",
        "            border: none;\n",
        "            transition: 0.3s;\n",
        "        }\n",
        "    </style>\n",
        "    \"\"\", unsafe_allow_html=True)\n",
        "\n",
        "st.markdown(\"<div class='main-container'>\", unsafe_allow_html=True)\n",
        "st.title(\"⚖ Fancy BMI Calculator\")\n",
        "st.write(\"Calculate your Body Mass Index (BMI) and check your health category.\")\n",
        "\n",
        "# User input\n",
        "col1, col2 = st.columns(2)\n",
        "with col1:\n",
        "    weight = st.number_input(\"Enter your weight (kg)\", min_value=1.0, step=0.1, format=\"%.1f\")\n",
        "with col2:\n",
        "    height = st.number_input(\"Enter your height (m)\", min_value=0.5, step=0.01, format=\"%.2f\")\n",
        "\n",
        "if st.button(\"Calculate BMI\"):\n",
        "    if weight and height:\n",
        "        bmi = calculate_bmi(weight, height)\n",
        "        category = bmi_category(bmi)\n",
        "\n",
        "        st.markdown(f\"<div class='result'>Your BMI: {bmi:.2f} ({category})</div>\", unsafe_allow_html=True)\n",
        "\n",
        "        # Create a data frame for visualization\n",
        "        df = pd.DataFrame({\n",
        "            \"Category\": [\"Underweight\", \"Normal weight\", \"Overweight\", \"Obese\"],\n",
        "            \"BMI Range\": [18.4, 24.9, 29.9, 35]\n",
        "        })\n",
        "        df[\"Current BMI\"] = [bmi if category == x else None for x in df[\"Category\"]]\n",
        "\n",
        "        # Plotting\n",
        "        fig = px.bar(df, x=\"Category\", y=\"BMI Range\", text=\"BMI Range\",\n",
        "                     color=\"Category\", height=400, title=\"BMI Categories\",\n",
        "                     color_discrete_map={\"Underweight\": \"blue\", \"Normal weight\": \"green\", \"Overweight\": \"orange\", \"Obese\": \"red\"})\n",
        "        st.plotly_chart(fig)\n",
        "    else:\n",
        "        st.error(\"Please enter valid weight and height values.\")\n",
        "\n",
        "st.markdown(\"</div>\", unsafe_allow_html=True)\n",
        "st.write(\"Developed by Ismat Zehra\")"
      ],
      "metadata": {
        "id": "E4WmgtHz4qTF"
      },
      "execution_count": null,
      "outputs": []
    }
  ]
}